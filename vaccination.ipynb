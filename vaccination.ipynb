{
 "cells": [
  {
   "cell_type": "code",
   "execution_count": 161,
   "id": "e3c8af1d-28bd-4aba-972d-cd2066db2c56",
   "metadata": {
    "tags": []
   },
   "outputs": [],
   "source": [
    "import pandas as pd\n",
    "import numpy as np\n",
    "import datetime as dt"
   ]
  },
  {
   "cell_type": "code",
   "execution_count": null,
   "id": "67a75843-0e53-4a8c-ae7d-0edf3d1f10fb",
   "metadata": {
    "tags": []
   },
   "outputs": [],
   "source": []
  },
  {
   "cell_type": "code",
   "execution_count": null,
   "id": "f26ff87b-bbf0-42e3-9e16-81aae2cfbc9b",
   "metadata": {},
   "outputs": [],
   "source": []
  },
  {
   "cell_type": "code",
   "execution_count": 163,
   "id": "27dd92ee-94a3-4184-a9d6-fd9ae6ee1f21",
   "metadata": {
    "tags": []
   },
   "outputs": [
    {
     "name": "stderr",
     "output_type": "stream",
     "text": [
      "C:\\Users\\hp\\AppData\\Local\\Temp\\ipykernel_20552\\2336599922.py:3: SettingWithCopyWarning: \n",
      "A value is trying to be set on a copy of a slice from a DataFrame\n",
      "\n",
      "See the caveats in the documentation: https://pandas.pydata.org/pandas-docs/stable/user_guide/indexing.html#returning-a-view-versus-a-copy\n",
      "  vaccine[\"date of 1st dose\"][6] = '2024-06-17'\n"
     ]
    }
   ],
   "source": [
    "# reading excel file\n",
    "\n",
    "vaccine = pd.read_excel(r\"vaccine_data.xlsx\")\n",
    "\n",
    "vaccine[\"date of 1st dose\"][6] = '2024-06-17'"
   ]
  },
  {
   "cell_type": "code",
   "execution_count": 165,
   "id": "d5140087-ba55-4e2e-93fc-b921a706c09b",
   "metadata": {
    "tags": []
   },
   "outputs": [],
   "source": [
    "# days difference code\n",
    "\n",
    "from datetime import datetime"
   ]
  },
  {
   "cell_type": "code",
   "execution_count": 167,
   "id": "7a12663a-a665-43cc-87ca-bd2611d304ca",
   "metadata": {
    "tags": []
   },
   "outputs": [],
   "source": [
    "# Finding date difference from date of 1st dose to current date\n",
    "\n",
    "date_difference = (datetime.now() - vaccine[\"date of 1st dose\"]).dt.days"
   ]
  },
  {
   "cell_type": "code",
   "execution_count": 169,
   "id": "8bf0c245-e472-40d7-a0d2-45ba8a2ea90b",
   "metadata": {
    "tags": []
   },
   "outputs": [],
   "source": [
    "# Changing date formate\n",
    "\n",
    "date_of_1st_dose = vaccine[\"date of 1st dose\"].dt.strftime(\"%d/%m/%Y\")"
   ]
  },
  {
   "cell_type": "code",
   "execution_count": 171,
   "id": "88aba63d-1979-46d3-b793-4780b99412b4",
   "metadata": {
    "tags": []
   },
   "outputs": [],
   "source": [
    "# Adding 3 months to date of 1st dose\n",
    "\n",
    "date_of_2nd_dose = (vaccine[\"date of 1st dose\"] + pd.DateOffset(months=3)).dt.strftime(\"%d/%m/%Y\")"
   ]
  },
  {
   "cell_type": "code",
   "execution_count": null,
   "id": "0488aaa6-f9c0-4279-a5cd-6aa4d24a3e8b",
   "metadata": {},
   "outputs": [],
   "source": []
  },
  {
   "cell_type": "code",
   "execution_count": 177,
   "id": "f8eb3215-805d-4805-865a-07aa46b68666",
   "metadata": {
    "tags": []
   },
   "outputs": [
    {
     "name": "stdin",
     "output_type": "stream",
     "text": [
      "Enter Username:- monish\n",
      "Enter Password:- 1234\n"
     ]
    },
    {
     "name": "stdout",
     "output_type": "stream",
     "text": [
      "Login Successfully\n"
     ]
    },
    {
     "name": "stdin",
     "output_type": "stream",
     "text": [
      "Enter User ID:- p001\n"
     ]
    },
    {
     "name": "stdout",
     "output_type": "stream",
     "text": [
      "Hi Chandler, Congratulations! You are fully vaccinated\n"
     ]
    },
    {
     "name": "stdin",
     "output_type": "stream",
     "text": [
      "Enter 1 for continue and 2 for exit:- 3\n"
     ]
    },
    {
     "name": "stdout",
     "output_type": "stream",
     "text": [
      "Good to See You monish, Have a Nice Day\n"
     ]
    }
   ],
   "source": [
    "for j in range(3,0,-1):\n",
    "    \n",
    "    user_name = str(input(\"Enter Username:-\"))  # input of user name\n",
    "    password = int(input(\"Enter Password:-\"))  # input for password\n",
    "    \n",
    "    if user_name == \"monish\" and password == 1234:   # if username and password is correct\n",
    "        print(\"Login Successfully\")\n",
    "        exit_or_not = 1    # 1 is for continue and 2 is for exit, by default we set 1\n",
    "    \n",
    "        while exit_or_not == 1:   # while loop ture condition\n",
    "    \n",
    "            user_id = str(input(\"Enter User ID:-\"))   # user id input\n",
    "    \n",
    "            for i in range(vaccine.shape[0]):   # running loop to extract index \n",
    "    \n",
    "                name = vaccine[\"name\"][i]  # taking user id person name, which is used in greeting\n",
    "\n",
    "                if user_id == vaccine[\"userid\"][i]:  # if inputed userid exist, then only further step is proceed.\n",
    "                   \n",
    "                    # If the user has taken both the doses then it should show\n",
    "                    if vaccine[\"1st dose status\"][i] == \"yes\" and vaccine[\"2nd dose status\"][i] == \"yes\":\n",
    "                        print(f\"Hi {name}, Congratulations! You are fully vaccinated\")\n",
    "                        # input 1 is for continue and 2 is for exit\n",
    "                        continue_output = int(input(\"Enter 1 for continue and 2 for exit:-\"))\n",
    "                        # assigning output to exit_or_not variable to continue or exit\n",
    "                        exit_or_not = continue_output\n",
    "                        break\n",
    "        \n",
    "                    elif vaccine[\"1st dose status\"][i] == \"no\" and vaccine[\"2nd dose status\"][i] == \"no\":\n",
    "                        print(f\"Hi {name}, Please take your first dose at earliest\")\n",
    "                        # input 1 is for continue and 2 is for exit\n",
    "                        continue_output = int(input(\"Enter 1 for continue and 2 for exit:-\"))\n",
    "                        # assigning output to exit_or_not variable to continue or exit\n",
    "                        exit_or_not = continue_output\n",
    "                        break\n",
    "            \n",
    "                    elif (vaccine[\"1st dose status\"][i] == \"yes\" and vaccine[\"2nd dose status\"][i] == \"no\") and date_difference[i] > 90:\n",
    "                        print(f\"Hi {name}, You have taken your first dose on <{date_of_1st_dose[i]}>, please take your 2nd dose at earliest\")\n",
    "                        # input 1 is for continue and 2 is for exit\n",
    "                        continue_output = int(input(\"Enter 1 for continue and 2 for exit:-\"))\n",
    "                        # assigning output to exit_or_not variable to continue or exit\n",
    "                        exit_or_not = continue_output\n",
    "                        break\n",
    "            \n",
    "                    elif (vaccine[\"1st dose status\"][i] == \"yes\" and vaccine[\"2nd dose status\"][i] == \"no\") and date_difference[i] < 90:\n",
    "                        print(f\"Hi {name}, You have taken your first dose on <{date_of_1st_dose[i]}>, please take your 2nd dose on or after <{date_of_2nd_dose[i]}>\")\n",
    "                        # input 1 is for continue and 2 is for exit\n",
    "                        continue_output = int(input(\"Enter 1 for continue and 2 for exit:-\"))\n",
    "                        # assigning output to exit_or_not variable to continue or exit\n",
    "                        exit_or_not = continue_output\n",
    "                        break\n",
    "                \n",
    "            else:  \n",
    "                # if inputed userid is not exist, then this message will be shown\n",
    "                print(\"Enter Valid UserId\")\n",
    "        \n",
    "        print(f\"Good to See You {user_name}, Have a Nice Day\")\n",
    "        # if user press 2 then this leaving greeting message will be shown\n",
    "        break\n",
    "        \n",
    "    else:\n",
    "        # This will Run if user give wrong username and and password\n",
    "        if j > 1:\n",
    "            if user_name != \"Monish\" or password !=1234:\n",
    "                print(f\"{j-1} attempt were left\")\n",
    "                \n",
    "        # this will run if user attempt 3 wrong try.        \n",
    "        elif j == 1:\n",
    "            print(\"Try Again Later\")"
   ]
  },
  {
   "cell_type": "code",
   "execution_count": null,
   "id": "62f06948-22ed-4175-bbe5-224fc52df746",
   "metadata": {
    "tags": []
   },
   "outputs": [],
   "source": []
  },
  {
   "cell_type": "code",
   "execution_count": null,
   "id": "5efa76c0-e5ca-4cb8-8652-6e3214e107f0",
   "metadata": {},
   "outputs": [],
   "source": []
  },
  {
   "cell_type": "code",
   "execution_count": null,
   "id": "63c3d981-035d-4451-a61c-954b52f85d82",
   "metadata": {},
   "outputs": [],
   "source": []
  },
  {
   "cell_type": "code",
   "execution_count": null,
   "id": "4b88429a-2283-4f59-96a9-d18697b13b22",
   "metadata": {},
   "outputs": [],
   "source": []
  },
  {
   "cell_type": "code",
   "execution_count": null,
   "id": "55271a62-c0a9-4b52-b73b-2f43f9248ebe",
   "metadata": {},
   "outputs": [],
   "source": []
  },
  {
   "cell_type": "code",
   "execution_count": null,
   "id": "439706d8-8a99-4585-812d-755a8b3fd3b0",
   "metadata": {},
   "outputs": [],
   "source": []
  },
  {
   "cell_type": "code",
   "execution_count": null,
   "id": "cbd77928-f4eb-4098-86a6-964f652ec31c",
   "metadata": {},
   "outputs": [],
   "source": []
  },
  {
   "cell_type": "code",
   "execution_count": null,
   "id": "8150dff3-8345-49a3-ad89-840bda7e7eb0",
   "metadata": {},
   "outputs": [],
   "source": []
  },
  {
   "cell_type": "code",
   "execution_count": null,
   "id": "ad045420-c074-4619-b148-841f687c7c30",
   "metadata": {},
   "outputs": [],
   "source": []
  },
  {
   "cell_type": "code",
   "execution_count": null,
   "id": "66933621-7748-4d8d-b393-6d42257e0b66",
   "metadata": {},
   "outputs": [],
   "source": []
  },
  {
   "cell_type": "code",
   "execution_count": null,
   "id": "494d2b54-af99-455c-8e5d-e40a90408d40",
   "metadata": {},
   "outputs": [],
   "source": []
  },
  {
   "cell_type": "code",
   "execution_count": null,
   "id": "15064860-a4be-42fd-94b7-59ec25bd9ab8",
   "metadata": {},
   "outputs": [],
   "source": []
  },
  {
   "cell_type": "code",
   "execution_count": null,
   "id": "c873cb47-c581-4eef-a01d-84ac48ec08ed",
   "metadata": {},
   "outputs": [],
   "source": []
  },
  {
   "cell_type": "code",
   "execution_count": null,
   "id": "82cb5198-5c61-4bc1-b734-3ea08545eac8",
   "metadata": {},
   "outputs": [],
   "source": []
  },
  {
   "cell_type": "code",
   "execution_count": null,
   "id": "7f265c18-4579-4214-957c-fcddab491d90",
   "metadata": {},
   "outputs": [],
   "source": []
  },
  {
   "cell_type": "code",
   "execution_count": null,
   "id": "77fa0472-71a8-4590-a6d1-2565370f581d",
   "metadata": {},
   "outputs": [],
   "source": []
  },
  {
   "cell_type": "code",
   "execution_count": null,
   "id": "365372c0-09b7-4c70-be29-7efbf9581cc6",
   "metadata": {},
   "outputs": [],
   "source": []
  },
  {
   "cell_type": "code",
   "execution_count": null,
   "id": "ab27cb23-aa6c-4862-abb4-a929ae28fc66",
   "metadata": {},
   "outputs": [],
   "source": []
  },
  {
   "cell_type": "code",
   "execution_count": null,
   "id": "f7a5703d-a010-4090-845f-882a87104e6b",
   "metadata": {},
   "outputs": [],
   "source": []
  },
  {
   "cell_type": "code",
   "execution_count": null,
   "id": "93c39fd4-ab93-41d5-b389-4c68739b7026",
   "metadata": {},
   "outputs": [],
   "source": []
  },
  {
   "cell_type": "code",
   "execution_count": null,
   "id": "6b3cee5f-cc0e-404c-a2db-52749e7db1c7",
   "metadata": {},
   "outputs": [],
   "source": []
  },
  {
   "cell_type": "code",
   "execution_count": null,
   "id": "92cf83ec-7583-4849-ab2c-a95be69424bd",
   "metadata": {},
   "outputs": [],
   "source": []
  },
  {
   "cell_type": "code",
   "execution_count": null,
   "id": "bb96944f-301f-4790-acb3-cdcdb599fdfd",
   "metadata": {},
   "outputs": [],
   "source": []
  },
  {
   "cell_type": "code",
   "execution_count": null,
   "id": "841a1603-1fad-450a-a3b9-f431728e2b64",
   "metadata": {},
   "outputs": [],
   "source": []
  },
  {
   "cell_type": "code",
   "execution_count": null,
   "id": "1649e8fd-c053-40ae-8a33-ec956a8c5c31",
   "metadata": {},
   "outputs": [],
   "source": []
  },
  {
   "cell_type": "code",
   "execution_count": null,
   "id": "f594aa17-d20b-4bcc-abbf-969c43e3264a",
   "metadata": {},
   "outputs": [],
   "source": []
  },
  {
   "cell_type": "code",
   "execution_count": null,
   "id": "d9d71969-3394-4dbf-bc61-21a6eee6d821",
   "metadata": {},
   "outputs": [],
   "source": []
  },
  {
   "cell_type": "code",
   "execution_count": null,
   "id": "4e179c37-4010-4699-8d94-363eb9449471",
   "metadata": {},
   "outputs": [],
   "source": []
  }
 ],
 "metadata": {
  "kernelspec": {
   "display_name": "Python 3 (ipykernel)",
   "language": "python",
   "name": "python3"
  },
  "language_info": {
   "codemirror_mode": {
    "name": "ipython",
    "version": 3
   },
   "file_extension": ".py",
   "mimetype": "text/x-python",
   "name": "python",
   "nbconvert_exporter": "python",
   "pygments_lexer": "ipython3",
   "version": "3.11.5"
  }
 },
 "nbformat": 4,
 "nbformat_minor": 5
}
